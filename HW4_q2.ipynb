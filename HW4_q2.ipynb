{
  "nbformat": 4,
  "nbformat_minor": 0,
  "metadata": {
    "colab": {
      "name": "HW4-q2.ipynb",
      "provenance": [],
      "collapsed_sections": []
    },
    "kernelspec": {
      "name": "python3",
      "display_name": "Python 3"
    },
    "language_info": {
      "name": "python"
    }
  },
  "cells": [
    {
      "cell_type": "code",
      "metadata": {
        "id": "984Y8-dKye6q"
      },
      "source": [
        "import numpy as np\n",
        "import pandas as pd\n",
        "import xgboost as xgb\n",
        "from sklearn.preprocessing import OrdinalEncoder\n",
        "from sklearn.metrics import accuracy_score\n",
        "from sklearn.metrics import confusion_matrix\n",
        "from xgboost import XGBClassifier\n",
        "from sklearn.model_selection import KFold"
      ],
      "execution_count": 1,
      "outputs": []
    },
    {
      "cell_type": "code",
      "metadata": {
        "id": "ejYjXAUiykUj"
      },
      "source": [
        "def convert_cat_to_num(encoder, data):\n",
        "\tencoder.fit(data)\n",
        "\treturn encoder.transform(data)\n",
        "\n",
        "def convert_num_to_cat(encoder, data):\n",
        "\treturn encoder.inverse_transform(data)"
      ],
      "execution_count": 2,
      "outputs": []
    },
    {
      "cell_type": "code",
      "metadata": {
        "colab": {
          "base_uri": "https://localhost:8080/"
        },
        "id": "Kr6iOy1wyugU",
        "outputId": "cd7f04ea-b77f-45a0-855b-b95eb7187d30"
      },
      "source": [
        "!unzip HW4_q2.zip\n",
        "!cd HW4_q2"
      ],
      "execution_count": 3,
      "outputs": [
        {
          "output_type": "stream",
          "text": [
            "Archive:  HW4_q2.zip\n",
            "   creating: HW4_q2/\n",
            "  inflating: HW4_q2/adult.data       \n",
            "  inflating: HW4_q2/adult.names      \n",
            "  inflating: HW4_q2/adult.test       \n"
          ],
          "name": "stdout"
        }
      ]
    },
    {
      "cell_type": "code",
      "metadata": {
        "colab": {
          "base_uri": "https://localhost:8080/"
        },
        "id": "IPiy-C9ay8C8",
        "outputId": "62ef90de-3147-41cc-f0ac-8ffc220b5d71"
      },
      "source": [
        "cd HW4_q2/"
      ],
      "execution_count": 4,
      "outputs": [
        {
          "output_type": "stream",
          "text": [
            "/content/HW4_q2\n"
          ],
          "name": "stdout"
        }
      ]
    },
    {
      "cell_type": "code",
      "metadata": {
        "colab": {
          "base_uri": "https://localhost:8080/"
        },
        "id": "s4lmQvS6zDIP",
        "outputId": "ebc4251a-4fb6-43d5-ae25-7ecb6780fc03"
      },
      "source": [
        "testFile = open('adult.test')\n",
        "namesFile = open('adult.names')\n",
        "trainFile = open('adult.data')\n",
        "\n",
        "testData = np.genfromtxt(testFile, delimiter=',', dtype=np.str_)\n",
        "trainData = np.genfromtxt(trainFile, delimiter=',', dtype=np.str_)\n",
        "#namesData = np.genfromtxt(namesFile, delimiter=',', skip_header=96, dtype=np.str_)\n",
        "\n",
        "splitter = trainData.shape[0]\n",
        "combinedData = np.concatenate((trainData, testData), axis=0)\n",
        "\n",
        "cat_list=[0,1,0,1,0,1,1,1,1,1,0,0,0,1,1]\n",
        "enc = []\n",
        "for i in range(len(cat_list)):\n",
        "  enc.append(OrdinalEncoder())\n",
        "\n",
        "for i in range(len(cat_list)):\n",
        "  if (cat_list[i]==1):\n",
        "    combinedData[:,i:i+1] = convert_cat_to_num(enc[i], combinedData[:,i:i+1])\n",
        "\n",
        "\n",
        "X_train = combinedData[:splitter][:,:-1]\n",
        "y_train = combinedData[:splitter][:,-1:]\n",
        "\n",
        "X_test = combinedData[splitter:][:,:-1]\n",
        "y_test = combinedData[splitter:][:,-1:]\n",
        "# XX = np.concatenate((X_train, X_test), axis=0)\n",
        "# yy = np.concatenate((y_train, y_test), axis=0)\n",
        "\n",
        "print(X_test)\n",
        "print(y_test)\n",
        "\n",
        "print(X_test[0])\n",
        "print(trainData[0])\n",
        "model = XGBClassifier()\n",
        "model.fit(X_train, y_train)"
      ],
      "execution_count": 5,
      "outputs": [
        {
          "output_type": "stream",
          "text": [
            "[['25' '4.0' ' 226802' ... ' 0' ' 40' '39.0']\n",
            " ['38' '4.0' ' 89814' ... ' 0' ' 50' '39.0']\n",
            " ['28' '2.0' ' 336951' ... ' 0' ' 40' '39.0']\n",
            " ...\n",
            " ['38' '4.0' ' 374983' ... ' 0' ' 50' '39.0']\n",
            " ['44' '4.0' ' 83891' ... ' 0' ' 40' '39.0']\n",
            " ['35' '5.0' ' 182148' ... ' 0' ' 60' '39.0']]\n",
            "[['0.0']\n",
            " ['0.0']\n",
            " ['1.0']\n",
            " ...\n",
            " ['0.0']\n",
            " ['0.0']\n",
            " ['1.0']]\n",
            "['25' '4.0' ' 226802' '1.0' ' 7' '4.0' '7.0' '3.0' '2.0' '1.0' ' 0' ' 0'\n",
            " ' 40' '39.0']\n",
            "['39' ' State-gov' ' 77516' ' Bachelors' ' 13' ' Never-married'\n",
            " ' Adm-clerical' ' Not-in-family' ' White' ' Male' ' 2174' ' 0' ' 40'\n",
            " ' United-States' ' <=50K']\n"
          ],
          "name": "stdout"
        },
        {
          "output_type": "stream",
          "text": [
            "/usr/local/lib/python3.7/dist-packages/sklearn/preprocessing/_label.py:235: DataConversionWarning: A column-vector y was passed when a 1d array was expected. Please change the shape of y to (n_samples, ), for example using ravel().\n",
            "  y = column_or_1d(y, warn=True)\n",
            "/usr/local/lib/python3.7/dist-packages/sklearn/preprocessing/_label.py:268: DataConversionWarning: A column-vector y was passed when a 1d array was expected. Please change the shape of y to (n_samples, ), for example using ravel().\n",
            "  y = column_or_1d(y, warn=True)\n"
          ],
          "name": "stderr"
        },
        {
          "output_type": "execute_result",
          "data": {
            "text/plain": [
              "XGBClassifier(base_score=0.5, booster='gbtree', colsample_bylevel=1,\n",
              "              colsample_bynode=1, colsample_bytree=1, gamma=0,\n",
              "              learning_rate=0.1, max_delta_step=0, max_depth=3,\n",
              "              min_child_weight=1, missing=None, n_estimators=100, n_jobs=1,\n",
              "              nthread=None, objective='binary:logistic', random_state=0,\n",
              "              reg_alpha=0, reg_lambda=1, scale_pos_weight=1, seed=None,\n",
              "              silent=None, subsample=1, verbosity=1)"
            ]
          },
          "metadata": {
            "tags": []
          },
          "execution_count": 5
        }
      ]
    },
    {
      "cell_type": "code",
      "metadata": {
        "colab": {
          "base_uri": "https://localhost:8080/"
        },
        "id": "zQPoQo06zHZN",
        "outputId": "c2c994f6-8d88-4a03-fb55-abef732c33d2"
      },
      "source": [
        "y_pred = model.predict(X_train)\n",
        "print(accuracy_score(y_train, y_pred))\n",
        "print(confusion_matrix(y_train, y_pred))\n",
        "\n",
        "y_pred = model.predict(X_test)\n",
        "print(accuracy_score(y_test, y_pred))\n",
        "print(confusion_matrix(y_test, y_pred))"
      ],
      "execution_count": 6,
      "outputs": [
        {
          "output_type": "stream",
          "text": [
            "0.8665274408034151\n",
            "[[23560  1160]\n",
            " [ 3186  4655]]\n",
            "0.8661630120999939\n",
            "[[11857   578]\n",
            " [ 1601  2245]]\n"
          ],
          "name": "stdout"
        }
      ]
    },
    {
      "cell_type": "code",
      "metadata": {
        "id": "FtmndqodBebo"
      },
      "source": [
        "search_params = [\n",
        "    (max_depth, min_child_weight)\n",
        "    for max_depth in range(9,12)\n",
        "    for min_child_weight in range(5,8)\n",
        "]"
      ],
      "execution_count": 8,
      "outputs": []
    },
    {
      "cell_type": "code",
      "metadata": {
        "colab": {
          "base_uri": "https://localhost:8080/"
        },
        "id": "T4BjKHkFzX6Y",
        "outputId": "33f06266-632d-4d0c-d1a6-073b6d373080"
      },
      "source": [
        "#modelk = XGBClassifier()\n",
        "kf = KFold(n_splits=10)\n",
        "kf.get_n_splits(X_train)\n",
        "best_max_depth = 0\n",
        "best_min_child_weight = 0\n",
        "best_accuracy_score = 0\n",
        "for max_depth, min_child_weight in search_params:\n",
        "  params = {}\n",
        "  params['max_depth'] = max_depth\n",
        "  params['min_child_weight'] = min_child_weight\n",
        "  acs = []\n",
        "  for train_index, test_index in kf.split(X_train):\n",
        "    #print(\"TRAIN:\", train_index, \"TEST:\", test_index)\n",
        "    X_traink, X_testk = X_train[train_index], X_train[test_index]\n",
        "    y_traink, y_testk = y_train[train_index], y_train[test_index]\n",
        "    #dtrain = np.concatenate((X_traink, y_traink),axis=1)\n",
        "    modelk = XGBClassifier(**params)\n",
        "    modelk.fit(X_traink, y_traink)\n",
        "    y_pred = modelk.predict(X_testk)\n",
        "    acs.append(accuracy_score(y_testk, y_pred))\n",
        "    #print(acs[-1])\n",
        "  if best_accuracy_score < np.mean(acs):\n",
        "    best_accuracy_score = np.mean(acs)\n",
        "    print(\"best \" , best_accuracy_score)\n",
        "    best_max_depth = max_depth\n",
        "    best_min_child_weight = min_child_weight\n",
        "    #print(confusion_matrix(y_testk, y_pred))\n"
      ],
      "execution_count": 11,
      "outputs": [
        {
          "output_type": "stream",
          "text": [
            "/usr/local/lib/python3.7/dist-packages/sklearn/preprocessing/_label.py:235: DataConversionWarning: A column-vector y was passed when a 1d array was expected. Please change the shape of y to (n_samples, ), for example using ravel().\n",
            "  y = column_or_1d(y, warn=True)\n",
            "/usr/local/lib/python3.7/dist-packages/sklearn/preprocessing/_label.py:268: DataConversionWarning: A column-vector y was passed when a 1d array was expected. Please change the shape of y to (n_samples, ), for example using ravel().\n",
            "  y = column_or_1d(y, warn=True)\n"
          ],
          "name": "stderr"
        },
        {
          "output_type": "stream",
          "text": [
            "0.8664415105925698\n",
            "0.8753071253071253\n",
            "0.8805282555282555\n",
            "0.8633292383292384\n",
            "0.8728501228501229\n",
            "0.8725429975429976\n",
            "0.8716216216216216\n",
            "0.8768427518427518\n",
            "0.8737714987714987\n",
            "0.8703931203931204\n",
            "best  0.8723628242779302\n"
          ],
          "name": "stdout"
        }
      ]
    },
    {
      "cell_type": "code",
      "metadata": {
        "colab": {
          "base_uri": "https://localhost:8080/"
        },
        "id": "cw7urrOYzkkf",
        "outputId": "4e870bf7-eb61-4fbe-e8dd-2a40b9830081"
      },
      "source": [
        "#got the best params from k-fold\n",
        "params = {}\n",
        "params['max_depth'] = best_max_depth\n",
        "params['min_child_weight'] = best_min_child_weight\n",
        "print(params)\n",
        "\n",
        "modelf = XGBClassifier(**params)\n",
        "modelf.fit(X_train, y_train)\n",
        "\n",
        "y_pred = modelf.predict(X_test)\n",
        "print(accuracy_score(y_test, y_pred))\n",
        "print(confusion_matrix(y_test, y_pred))\n"
      ],
      "execution_count": 12,
      "outputs": [
        {
          "output_type": "stream",
          "text": [
            "{'max_depth': 9, 'min_child_weight': 7}\n"
          ],
          "name": "stdout"
        },
        {
          "output_type": "stream",
          "text": [
            "/usr/local/lib/python3.7/dist-packages/sklearn/preprocessing/_label.py:235: DataConversionWarning: A column-vector y was passed when a 1d array was expected. Please change the shape of y to (n_samples, ), for example using ravel().\n",
            "  y = column_or_1d(y, warn=True)\n",
            "/usr/local/lib/python3.7/dist-packages/sklearn/preprocessing/_label.py:268: DataConversionWarning: A column-vector y was passed when a 1d array was expected. Please change the shape of y to (n_samples, ), for example using ravel().\n",
            "  y = column_or_1d(y, warn=True)\n"
          ],
          "name": "stderr"
        },
        {
          "output_type": "stream",
          "text": [
            "0.872366562250476\n",
            "[[11701   734]\n",
            " [ 1344  2502]]\n"
          ],
          "name": "stdout"
        }
      ]
    },
    {
      "cell_type": "code",
      "metadata": {
        "id": "2JF4H0nW1csK"
      },
      "source": [
        ""
      ],
      "execution_count": null,
      "outputs": []
    }
  ]
}